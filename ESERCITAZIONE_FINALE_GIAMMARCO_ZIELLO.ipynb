{
 "cells": [
  {
   "cell_type": "code",
   "execution_count": 2,
   "id": "c93d88b8-46c9-4ef5-8798-874d7c28cd35",
   "metadata": {},
   "outputs": [],
   "source": [
    "import pandas as pd\n",
    "import seaborn as sns"
   ]
  },
  {
   "cell_type": "code",
   "execution_count": 12,
   "id": "eb3b5fad-aaff-47b7-9551-933315abb1f0",
   "metadata": {},
   "outputs": [],
   "source": [
    "df = pd.read_csv(\"/Users/giammarcoziello/Desktop/datasets/owid-covid-data.csv\")"
   ]
  },
  {
   "cell_type": "code",
   "execution_count": 4,
   "id": "4127686a-93e6-4824-a7fa-ec0742ee1bd8",
   "metadata": {},
   "outputs": [],
   "source": [
    "# 1. Livello Facile. Visualizza le prime e le ultime 5 righe del dataset. Funzioni utili: head(), tail()"
   ]
  },
  {
   "cell_type": "code",
   "execution_count": 6,
   "id": "680f8fe3-077a-457d-bd79-00b6be91cbb5",
   "metadata": {},
   "outputs": [
    {
     "data": {
      "text/html": [
       "<div>\n",
       "<style scoped>\n",
       "    .dataframe tbody tr th:only-of-type {\n",
       "        vertical-align: middle;\n",
       "    }\n",
       "\n",
       "    .dataframe tbody tr th {\n",
       "        vertical-align: top;\n",
       "    }\n",
       "\n",
       "    .dataframe thead th {\n",
       "        text-align: right;\n",
       "    }\n",
       "</style>\n",
       "<table border=\"1\" class=\"dataframe\">\n",
       "  <thead>\n",
       "    <tr style=\"text-align: right;\">\n",
       "      <th></th>\n",
       "      <th>iso_code</th>\n",
       "      <th>continent</th>\n",
       "      <th>location</th>\n",
       "      <th>date</th>\n",
       "      <th>total_cases</th>\n",
       "      <th>new_cases</th>\n",
       "      <th>new_cases_smoothed</th>\n",
       "      <th>total_deaths</th>\n",
       "      <th>new_deaths</th>\n",
       "      <th>new_deaths_smoothed</th>\n",
       "      <th>...</th>\n",
       "      <th>male_smokers</th>\n",
       "      <th>handwashing_facilities</th>\n",
       "      <th>hospital_beds_per_thousand</th>\n",
       "      <th>life_expectancy</th>\n",
       "      <th>human_development_index</th>\n",
       "      <th>population</th>\n",
       "      <th>excess_mortality_cumulative_absolute</th>\n",
       "      <th>excess_mortality_cumulative</th>\n",
       "      <th>excess_mortality</th>\n",
       "      <th>excess_mortality_cumulative_per_million</th>\n",
       "    </tr>\n",
       "  </thead>\n",
       "  <tbody>\n",
       "    <tr>\n",
       "      <th>0</th>\n",
       "      <td>AFG</td>\n",
       "      <td>Asia</td>\n",
       "      <td>Afghanistan</td>\n",
       "      <td>2020-01-05</td>\n",
       "      <td>0.0</td>\n",
       "      <td>0.0</td>\n",
       "      <td>NaN</td>\n",
       "      <td>0.0</td>\n",
       "      <td>0.0</td>\n",
       "      <td>NaN</td>\n",
       "      <td>...</td>\n",
       "      <td>NaN</td>\n",
       "      <td>37.746</td>\n",
       "      <td>0.5</td>\n",
       "      <td>64.83</td>\n",
       "      <td>0.511</td>\n",
       "      <td>41128772</td>\n",
       "      <td>NaN</td>\n",
       "      <td>NaN</td>\n",
       "      <td>NaN</td>\n",
       "      <td>NaN</td>\n",
       "    </tr>\n",
       "    <tr>\n",
       "      <th>1</th>\n",
       "      <td>AFG</td>\n",
       "      <td>Asia</td>\n",
       "      <td>Afghanistan</td>\n",
       "      <td>2020-01-06</td>\n",
       "      <td>0.0</td>\n",
       "      <td>0.0</td>\n",
       "      <td>NaN</td>\n",
       "      <td>0.0</td>\n",
       "      <td>0.0</td>\n",
       "      <td>NaN</td>\n",
       "      <td>...</td>\n",
       "      <td>NaN</td>\n",
       "      <td>37.746</td>\n",
       "      <td>0.5</td>\n",
       "      <td>64.83</td>\n",
       "      <td>0.511</td>\n",
       "      <td>41128772</td>\n",
       "      <td>NaN</td>\n",
       "      <td>NaN</td>\n",
       "      <td>NaN</td>\n",
       "      <td>NaN</td>\n",
       "    </tr>\n",
       "    <tr>\n",
       "      <th>2</th>\n",
       "      <td>AFG</td>\n",
       "      <td>Asia</td>\n",
       "      <td>Afghanistan</td>\n",
       "      <td>2020-01-07</td>\n",
       "      <td>0.0</td>\n",
       "      <td>0.0</td>\n",
       "      <td>NaN</td>\n",
       "      <td>0.0</td>\n",
       "      <td>0.0</td>\n",
       "      <td>NaN</td>\n",
       "      <td>...</td>\n",
       "      <td>NaN</td>\n",
       "      <td>37.746</td>\n",
       "      <td>0.5</td>\n",
       "      <td>64.83</td>\n",
       "      <td>0.511</td>\n",
       "      <td>41128772</td>\n",
       "      <td>NaN</td>\n",
       "      <td>NaN</td>\n",
       "      <td>NaN</td>\n",
       "      <td>NaN</td>\n",
       "    </tr>\n",
       "    <tr>\n",
       "      <th>3</th>\n",
       "      <td>AFG</td>\n",
       "      <td>Asia</td>\n",
       "      <td>Afghanistan</td>\n",
       "      <td>2020-01-08</td>\n",
       "      <td>0.0</td>\n",
       "      <td>0.0</td>\n",
       "      <td>NaN</td>\n",
       "      <td>0.0</td>\n",
       "      <td>0.0</td>\n",
       "      <td>NaN</td>\n",
       "      <td>...</td>\n",
       "      <td>NaN</td>\n",
       "      <td>37.746</td>\n",
       "      <td>0.5</td>\n",
       "      <td>64.83</td>\n",
       "      <td>0.511</td>\n",
       "      <td>41128772</td>\n",
       "      <td>NaN</td>\n",
       "      <td>NaN</td>\n",
       "      <td>NaN</td>\n",
       "      <td>NaN</td>\n",
       "    </tr>\n",
       "    <tr>\n",
       "      <th>4</th>\n",
       "      <td>AFG</td>\n",
       "      <td>Asia</td>\n",
       "      <td>Afghanistan</td>\n",
       "      <td>2020-01-09</td>\n",
       "      <td>0.0</td>\n",
       "      <td>0.0</td>\n",
       "      <td>NaN</td>\n",
       "      <td>0.0</td>\n",
       "      <td>0.0</td>\n",
       "      <td>NaN</td>\n",
       "      <td>...</td>\n",
       "      <td>NaN</td>\n",
       "      <td>37.746</td>\n",
       "      <td>0.5</td>\n",
       "      <td>64.83</td>\n",
       "      <td>0.511</td>\n",
       "      <td>41128772</td>\n",
       "      <td>NaN</td>\n",
       "      <td>NaN</td>\n",
       "      <td>NaN</td>\n",
       "      <td>NaN</td>\n",
       "    </tr>\n",
       "  </tbody>\n",
       "</table>\n",
       "<p>5 rows × 67 columns</p>\n",
       "</div>"
      ],
      "text/plain": [
       "  iso_code continent     location        date  total_cases  new_cases  \\\n",
       "0      AFG      Asia  Afghanistan  2020-01-05          0.0        0.0   \n",
       "1      AFG      Asia  Afghanistan  2020-01-06          0.0        0.0   \n",
       "2      AFG      Asia  Afghanistan  2020-01-07          0.0        0.0   \n",
       "3      AFG      Asia  Afghanistan  2020-01-08          0.0        0.0   \n",
       "4      AFG      Asia  Afghanistan  2020-01-09          0.0        0.0   \n",
       "\n",
       "   new_cases_smoothed  total_deaths  new_deaths  new_deaths_smoothed  ...  \\\n",
       "0                 NaN           0.0         0.0                  NaN  ...   \n",
       "1                 NaN           0.0         0.0                  NaN  ...   \n",
       "2                 NaN           0.0         0.0                  NaN  ...   \n",
       "3                 NaN           0.0         0.0                  NaN  ...   \n",
       "4                 NaN           0.0         0.0                  NaN  ...   \n",
       "\n",
       "   male_smokers  handwashing_facilities  hospital_beds_per_thousand  \\\n",
       "0           NaN                  37.746                         0.5   \n",
       "1           NaN                  37.746                         0.5   \n",
       "2           NaN                  37.746                         0.5   \n",
       "3           NaN                  37.746                         0.5   \n",
       "4           NaN                  37.746                         0.5   \n",
       "\n",
       "   life_expectancy  human_development_index  population  \\\n",
       "0            64.83                    0.511    41128772   \n",
       "1            64.83                    0.511    41128772   \n",
       "2            64.83                    0.511    41128772   \n",
       "3            64.83                    0.511    41128772   \n",
       "4            64.83                    0.511    41128772   \n",
       "\n",
       "   excess_mortality_cumulative_absolute  excess_mortality_cumulative  \\\n",
       "0                                   NaN                          NaN   \n",
       "1                                   NaN                          NaN   \n",
       "2                                   NaN                          NaN   \n",
       "3                                   NaN                          NaN   \n",
       "4                                   NaN                          NaN   \n",
       "\n",
       "   excess_mortality  excess_mortality_cumulative_per_million  \n",
       "0               NaN                                      NaN  \n",
       "1               NaN                                      NaN  \n",
       "2               NaN                                      NaN  \n",
       "3               NaN                                      NaN  \n",
       "4               NaN                                      NaN  \n",
       "\n",
       "[5 rows x 67 columns]"
      ]
     },
     "execution_count": 6,
     "metadata": {},
     "output_type": "execute_result"
    }
   ],
   "source": [
    "df.head()"
   ]
  },
  {
   "cell_type": "code",
   "execution_count": 14,
   "id": "960198d0-9437-4029-bb9f-b3ded84eecfd",
   "metadata": {},
   "outputs": [
    {
     "data": {
      "text/html": [
       "<div>\n",
       "<style scoped>\n",
       "    .dataframe tbody tr th:only-of-type {\n",
       "        vertical-align: middle;\n",
       "    }\n",
       "\n",
       "    .dataframe tbody tr th {\n",
       "        vertical-align: top;\n",
       "    }\n",
       "\n",
       "    .dataframe thead th {\n",
       "        text-align: right;\n",
       "    }\n",
       "</style>\n",
       "<table border=\"1\" class=\"dataframe\">\n",
       "  <thead>\n",
       "    <tr style=\"text-align: right;\">\n",
       "      <th></th>\n",
       "      <th>iso_code</th>\n",
       "      <th>continent</th>\n",
       "      <th>location</th>\n",
       "      <th>date</th>\n",
       "      <th>total_cases</th>\n",
       "      <th>new_cases</th>\n",
       "      <th>new_cases_smoothed</th>\n",
       "      <th>total_deaths</th>\n",
       "      <th>new_deaths</th>\n",
       "      <th>new_deaths_smoothed</th>\n",
       "      <th>...</th>\n",
       "      <th>male_smokers</th>\n",
       "      <th>handwashing_facilities</th>\n",
       "      <th>hospital_beds_per_thousand</th>\n",
       "      <th>life_expectancy</th>\n",
       "      <th>human_development_index</th>\n",
       "      <th>population</th>\n",
       "      <th>excess_mortality_cumulative_absolute</th>\n",
       "      <th>excess_mortality_cumulative</th>\n",
       "      <th>excess_mortality</th>\n",
       "      <th>excess_mortality_cumulative_per_million</th>\n",
       "    </tr>\n",
       "  </thead>\n",
       "  <tbody>\n",
       "    <tr>\n",
       "      <th>429430</th>\n",
       "      <td>ZWE</td>\n",
       "      <td>Africa</td>\n",
       "      <td>Zimbabwe</td>\n",
       "      <td>2024-07-31</td>\n",
       "      <td>266386.0</td>\n",
       "      <td>0.0</td>\n",
       "      <td>0.0</td>\n",
       "      <td>5740.0</td>\n",
       "      <td>0.0</td>\n",
       "      <td>0.0</td>\n",
       "      <td>...</td>\n",
       "      <td>30.7</td>\n",
       "      <td>36.791</td>\n",
       "      <td>1.7</td>\n",
       "      <td>61.49</td>\n",
       "      <td>0.571</td>\n",
       "      <td>16320539</td>\n",
       "      <td>NaN</td>\n",
       "      <td>NaN</td>\n",
       "      <td>NaN</td>\n",
       "      <td>NaN</td>\n",
       "    </tr>\n",
       "    <tr>\n",
       "      <th>429431</th>\n",
       "      <td>ZWE</td>\n",
       "      <td>Africa</td>\n",
       "      <td>Zimbabwe</td>\n",
       "      <td>2024-08-01</td>\n",
       "      <td>266386.0</td>\n",
       "      <td>0.0</td>\n",
       "      <td>0.0</td>\n",
       "      <td>5740.0</td>\n",
       "      <td>0.0</td>\n",
       "      <td>0.0</td>\n",
       "      <td>...</td>\n",
       "      <td>30.7</td>\n",
       "      <td>36.791</td>\n",
       "      <td>1.7</td>\n",
       "      <td>61.49</td>\n",
       "      <td>0.571</td>\n",
       "      <td>16320539</td>\n",
       "      <td>NaN</td>\n",
       "      <td>NaN</td>\n",
       "      <td>NaN</td>\n",
       "      <td>NaN</td>\n",
       "    </tr>\n",
       "    <tr>\n",
       "      <th>429432</th>\n",
       "      <td>ZWE</td>\n",
       "      <td>Africa</td>\n",
       "      <td>Zimbabwe</td>\n",
       "      <td>2024-08-02</td>\n",
       "      <td>266386.0</td>\n",
       "      <td>0.0</td>\n",
       "      <td>0.0</td>\n",
       "      <td>5740.0</td>\n",
       "      <td>0.0</td>\n",
       "      <td>0.0</td>\n",
       "      <td>...</td>\n",
       "      <td>30.7</td>\n",
       "      <td>36.791</td>\n",
       "      <td>1.7</td>\n",
       "      <td>61.49</td>\n",
       "      <td>0.571</td>\n",
       "      <td>16320539</td>\n",
       "      <td>NaN</td>\n",
       "      <td>NaN</td>\n",
       "      <td>NaN</td>\n",
       "      <td>NaN</td>\n",
       "    </tr>\n",
       "    <tr>\n",
       "      <th>429433</th>\n",
       "      <td>ZWE</td>\n",
       "      <td>Africa</td>\n",
       "      <td>Zimbabwe</td>\n",
       "      <td>2024-08-03</td>\n",
       "      <td>266386.0</td>\n",
       "      <td>0.0</td>\n",
       "      <td>0.0</td>\n",
       "      <td>5740.0</td>\n",
       "      <td>0.0</td>\n",
       "      <td>0.0</td>\n",
       "      <td>...</td>\n",
       "      <td>30.7</td>\n",
       "      <td>36.791</td>\n",
       "      <td>1.7</td>\n",
       "      <td>61.49</td>\n",
       "      <td>0.571</td>\n",
       "      <td>16320539</td>\n",
       "      <td>NaN</td>\n",
       "      <td>NaN</td>\n",
       "      <td>NaN</td>\n",
       "      <td>NaN</td>\n",
       "    </tr>\n",
       "    <tr>\n",
       "      <th>429434</th>\n",
       "      <td>ZWE</td>\n",
       "      <td>Africa</td>\n",
       "      <td>Zimbabwe</td>\n",
       "      <td>2024-08-04</td>\n",
       "      <td>266386.0</td>\n",
       "      <td>0.0</td>\n",
       "      <td>0.0</td>\n",
       "      <td>5740.0</td>\n",
       "      <td>0.0</td>\n",
       "      <td>0.0</td>\n",
       "      <td>...</td>\n",
       "      <td>30.7</td>\n",
       "      <td>36.791</td>\n",
       "      <td>1.7</td>\n",
       "      <td>61.49</td>\n",
       "      <td>0.571</td>\n",
       "      <td>16320539</td>\n",
       "      <td>NaN</td>\n",
       "      <td>NaN</td>\n",
       "      <td>NaN</td>\n",
       "      <td>NaN</td>\n",
       "    </tr>\n",
       "  </tbody>\n",
       "</table>\n",
       "<p>5 rows × 67 columns</p>\n",
       "</div>"
      ],
      "text/plain": [
       "       iso_code continent  location        date  total_cases  new_cases  \\\n",
       "429430      ZWE    Africa  Zimbabwe  2024-07-31     266386.0        0.0   \n",
       "429431      ZWE    Africa  Zimbabwe  2024-08-01     266386.0        0.0   \n",
       "429432      ZWE    Africa  Zimbabwe  2024-08-02     266386.0        0.0   \n",
       "429433      ZWE    Africa  Zimbabwe  2024-08-03     266386.0        0.0   \n",
       "429434      ZWE    Africa  Zimbabwe  2024-08-04     266386.0        0.0   \n",
       "\n",
       "        new_cases_smoothed  total_deaths  new_deaths  new_deaths_smoothed  \\\n",
       "429430                 0.0        5740.0         0.0                  0.0   \n",
       "429431                 0.0        5740.0         0.0                  0.0   \n",
       "429432                 0.0        5740.0         0.0                  0.0   \n",
       "429433                 0.0        5740.0         0.0                  0.0   \n",
       "429434                 0.0        5740.0         0.0                  0.0   \n",
       "\n",
       "        ...  male_smokers  handwashing_facilities  hospital_beds_per_thousand  \\\n",
       "429430  ...          30.7                  36.791                         1.7   \n",
       "429431  ...          30.7                  36.791                         1.7   \n",
       "429432  ...          30.7                  36.791                         1.7   \n",
       "429433  ...          30.7                  36.791                         1.7   \n",
       "429434  ...          30.7                  36.791                         1.7   \n",
       "\n",
       "        life_expectancy  human_development_index  population  \\\n",
       "429430            61.49                    0.571    16320539   \n",
       "429431            61.49                    0.571    16320539   \n",
       "429432            61.49                    0.571    16320539   \n",
       "429433            61.49                    0.571    16320539   \n",
       "429434            61.49                    0.571    16320539   \n",
       "\n",
       "        excess_mortality_cumulative_absolute  excess_mortality_cumulative  \\\n",
       "429430                                   NaN                          NaN   \n",
       "429431                                   NaN                          NaN   \n",
       "429432                                   NaN                          NaN   \n",
       "429433                                   NaN                          NaN   \n",
       "429434                                   NaN                          NaN   \n",
       "\n",
       "        excess_mortality  excess_mortality_cumulative_per_million  \n",
       "429430               NaN                                      NaN  \n",
       "429431               NaN                                      NaN  \n",
       "429432               NaN                                      NaN  \n",
       "429433               NaN                                      NaN  \n",
       "429434               NaN                                      NaN  \n",
       "\n",
       "[5 rows x 67 columns]"
      ]
     },
     "execution_count": 14,
     "metadata": {},
     "output_type": "execute_result"
    }
   ],
   "source": [
    "df.tail()"
   ]
  },
  {
   "cell_type": "code",
   "execution_count": 16,
   "id": "a097a49d-9a3b-4f48-b145-a47f5cd6ed2b",
   "metadata": {},
   "outputs": [
    {
     "data": {
      "text/plain": [
       "iso_code                                    object\n",
       "continent                                   object\n",
       "location                                    object\n",
       "date                                        object\n",
       "total_cases                                float64\n",
       "                                            ...   \n",
       "population                                   int64\n",
       "excess_mortality_cumulative_absolute       float64\n",
       "excess_mortality_cumulative                float64\n",
       "excess_mortality                           float64\n",
       "excess_mortality_cumulative_per_million    float64\n",
       "Length: 67, dtype: object"
      ]
     },
     "execution_count": 16,
     "metadata": {},
     "output_type": "execute_result"
    }
   ],
   "source": [
    "df.dtypes"
   ]
  },
  {
   "cell_type": "code",
   "execution_count": 18,
   "id": "cebe2668-7a4b-4ab6-aae9-5e048d21f438",
   "metadata": {},
   "outputs": [
    {
     "data": {
      "text/plain": [
       "iso_code                                        0\n",
       "continent                                   26525\n",
       "location                                        0\n",
       "date                                            0\n",
       "total_cases                                 17631\n",
       "                                            ...  \n",
       "population                                      0\n",
       "excess_mortality_cumulative_absolute       416024\n",
       "excess_mortality_cumulative                416024\n",
       "excess_mortality                           416024\n",
       "excess_mortality_cumulative_per_million    416024\n",
       "Length: 67, dtype: int64"
      ]
     },
     "execution_count": 18,
     "metadata": {},
     "output_type": "execute_result"
    }
   ],
   "source": [
    "df.isnull().sum()"
   ]
  },
  {
   "cell_type": "code",
   "execution_count": 20,
   "id": "cd0bbe9a-565f-4f7e-bcb5-37480df38dc7",
   "metadata": {},
   "outputs": [
    {
     "data": {
      "text/plain": [
       "['iso_code',\n",
       " 'continent',\n",
       " 'location',\n",
       " 'date',\n",
       " 'total_cases',\n",
       " 'new_cases',\n",
       " 'new_cases_smoothed',\n",
       " 'total_deaths',\n",
       " 'new_deaths',\n",
       " 'new_deaths_smoothed',\n",
       " 'total_cases_per_million',\n",
       " 'new_cases_per_million',\n",
       " 'new_cases_smoothed_per_million',\n",
       " 'total_deaths_per_million',\n",
       " 'new_deaths_per_million',\n",
       " 'new_deaths_smoothed_per_million',\n",
       " 'reproduction_rate',\n",
       " 'icu_patients',\n",
       " 'icu_patients_per_million',\n",
       " 'hosp_patients',\n",
       " 'hosp_patients_per_million',\n",
       " 'weekly_icu_admissions',\n",
       " 'weekly_icu_admissions_per_million',\n",
       " 'weekly_hosp_admissions',\n",
       " 'weekly_hosp_admissions_per_million',\n",
       " 'total_tests',\n",
       " 'new_tests',\n",
       " 'total_tests_per_thousand',\n",
       " 'new_tests_per_thousand',\n",
       " 'new_tests_smoothed',\n",
       " 'new_tests_smoothed_per_thousand',\n",
       " 'positive_rate',\n",
       " 'tests_per_case',\n",
       " 'tests_units',\n",
       " 'total_vaccinations',\n",
       " 'people_vaccinated',\n",
       " 'people_fully_vaccinated',\n",
       " 'total_boosters',\n",
       " 'new_vaccinations',\n",
       " 'new_vaccinations_smoothed',\n",
       " 'total_vaccinations_per_hundred',\n",
       " 'people_vaccinated_per_hundred',\n",
       " 'people_fully_vaccinated_per_hundred',\n",
       " 'total_boosters_per_hundred',\n",
       " 'new_vaccinations_smoothed_per_million',\n",
       " 'new_people_vaccinated_smoothed',\n",
       " 'new_people_vaccinated_smoothed_per_hundred',\n",
       " 'stringency_index',\n",
       " 'population_density',\n",
       " 'median_age',\n",
       " 'aged_65_older',\n",
       " 'aged_70_older',\n",
       " 'gdp_per_capita',\n",
       " 'extreme_poverty',\n",
       " 'cardiovasc_death_rate',\n",
       " 'diabetes_prevalence',\n",
       " 'female_smokers',\n",
       " 'male_smokers',\n",
       " 'handwashing_facilities',\n",
       " 'hospital_beds_per_thousand',\n",
       " 'life_expectancy',\n",
       " 'human_development_index',\n",
       " 'population',\n",
       " 'excess_mortality_cumulative_absolute',\n",
       " 'excess_mortality_cumulative',\n",
       " 'excess_mortality',\n",
       " 'excess_mortality_cumulative_per_million']"
      ]
     },
     "execution_count": 20,
     "metadata": {},
     "output_type": "execute_result"
    }
   ],
   "source": [
    "df.columns.tolist()"
   ]
  },
  {
   "cell_type": "code",
   "execution_count": 22,
   "id": "9e2db7ca-1001-4824-b66d-723eb9018497",
   "metadata": {},
   "outputs": [
    {
     "data": {
      "text/plain": [
       "(429435, 67)"
      ]
     },
     "execution_count": 22,
     "metadata": {},
     "output_type": "execute_result"
    }
   ],
   "source": [
    "df.shape"
   ]
  },
  {
   "cell_type": "code",
   "execution_count": 24,
   "id": "dbeac4ca-e8e3-49d1-a8c3-0581f2d832c6",
   "metadata": {},
   "outputs": [
    {
     "name": "stdout",
     "output_type": "stream",
     "text": [
      "<class 'pandas.core.frame.DataFrame'>\n",
      "RangeIndex: 429435 entries, 0 to 429434\n",
      "Data columns (total 67 columns):\n",
      " #   Column                                      Non-Null Count   Dtype  \n",
      "---  ------                                      --------------   -----  \n",
      " 0   iso_code                                    429435 non-null  object \n",
      " 1   continent                                   402910 non-null  object \n",
      " 2   location                                    429435 non-null  object \n",
      " 3   date                                        429435 non-null  object \n",
      " 4   total_cases                                 411804 non-null  float64\n",
      " 5   new_cases                                   410159 non-null  float64\n",
      " 6   new_cases_smoothed                          408929 non-null  float64\n",
      " 7   total_deaths                                411804 non-null  float64\n",
      " 8   new_deaths                                  410608 non-null  float64\n",
      " 9   new_deaths_smoothed                         409378 non-null  float64\n",
      " 10  total_cases_per_million                     411804 non-null  float64\n",
      " 11  new_cases_per_million                       410159 non-null  float64\n",
      " 12  new_cases_smoothed_per_million              408929 non-null  float64\n",
      " 13  total_deaths_per_million                    411804 non-null  float64\n",
      " 14  new_deaths_per_million                      410608 non-null  float64\n",
      " 15  new_deaths_smoothed_per_million             409378 non-null  float64\n",
      " 16  reproduction_rate                           184817 non-null  float64\n",
      " 17  icu_patients                                39116 non-null   float64\n",
      " 18  icu_patients_per_million                    39116 non-null   float64\n",
      " 19  hosp_patients                               40656 non-null   float64\n",
      " 20  hosp_patients_per_million                   40656 non-null   float64\n",
      " 21  weekly_icu_admissions                       10993 non-null   float64\n",
      " 22  weekly_icu_admissions_per_million           10993 non-null   float64\n",
      " 23  weekly_hosp_admissions                      24497 non-null   float64\n",
      " 24  weekly_hosp_admissions_per_million          24497 non-null   float64\n",
      " 25  total_tests                                 79387 non-null   float64\n",
      " 26  new_tests                                   75403 non-null   float64\n",
      " 27  total_tests_per_thousand                    79387 non-null   float64\n",
      " 28  new_tests_per_thousand                      75403 non-null   float64\n",
      " 29  new_tests_smoothed                          103965 non-null  float64\n",
      " 30  new_tests_smoothed_per_thousand             103965 non-null  float64\n",
      " 31  positive_rate                               95927 non-null   float64\n",
      " 32  tests_per_case                              94348 non-null   float64\n",
      " 33  tests_units                                 106788 non-null  object \n",
      " 34  total_vaccinations                          85417 non-null   float64\n",
      " 35  people_vaccinated                           81132 non-null   float64\n",
      " 36  people_fully_vaccinated                     78061 non-null   float64\n",
      " 37  total_boosters                              53600 non-null   float64\n",
      " 38  new_vaccinations                            70971 non-null   float64\n",
      " 39  new_vaccinations_smoothed                   195029 non-null  float64\n",
      " 40  total_vaccinations_per_hundred              85417 non-null   float64\n",
      " 41  people_vaccinated_per_hundred               81132 non-null   float64\n",
      " 42  people_fully_vaccinated_per_hundred         78061 non-null   float64\n",
      " 43  total_boosters_per_hundred                  53600 non-null   float64\n",
      " 44  new_vaccinations_smoothed_per_million       195029 non-null  float64\n",
      " 45  new_people_vaccinated_smoothed              192177 non-null  float64\n",
      " 46  new_people_vaccinated_smoothed_per_hundred  192177 non-null  float64\n",
      " 47  stringency_index                            196190 non-null  float64\n",
      " 48  population_density                          360492 non-null  float64\n",
      " 49  median_age                                  334663 non-null  float64\n",
      " 50  aged_65_older                               323270 non-null  float64\n",
      " 51  aged_70_older                               331315 non-null  float64\n",
      " 52  gdp_per_capita                              328292 non-null  float64\n",
      " 53  extreme_poverty                             211996 non-null  float64\n",
      " 54  cardiovasc_death_rate                       328865 non-null  float64\n",
      " 55  diabetes_prevalence                         345911 non-null  float64\n",
      " 56  female_smokers                              247165 non-null  float64\n",
      " 57  male_smokers                                243817 non-null  float64\n",
      " 58  handwashing_facilities                      161741 non-null  float64\n",
      " 59  hospital_beds_per_thousand                  290689 non-null  float64\n",
      " 60  life_expectancy                             390299 non-null  float64\n",
      " 61  human_development_index                     319127 non-null  float64\n",
      " 62  population                                  429435 non-null  int64  \n",
      " 63  excess_mortality_cumulative_absolute        13411 non-null   float64\n",
      " 64  excess_mortality_cumulative                 13411 non-null   float64\n",
      " 65  excess_mortality                            13411 non-null   float64\n",
      " 66  excess_mortality_cumulative_per_million     13411 non-null   float64\n",
      "dtypes: float64(61), int64(1), object(5)\n",
      "memory usage: 219.5+ MB\n"
     ]
    }
   ],
   "source": [
    "df.info()"
   ]
  },
  {
   "cell_type": "code",
   "execution_count": 26,
   "id": "f41db41f-c16d-4001-9978-a55f1582bdad",
   "metadata": {},
   "outputs": [],
   "source": [
    "# 2 Si chiede di trovare, per ogni continente: \n",
    "# a. il numero di casi fin dall'inizio della pandemia"
   ]
  },
  {
   "cell_type": "code",
   "execution_count": 28,
   "id": "51067dec-d013-4995-9888-595415ae6636",
   "metadata": {},
   "outputs": [
    {
     "name": "stdout",
     "output_type": "stream",
     "text": [
      "continent\n",
      "Africa            13145380.0\n",
      "Asia             301499099.0\n",
      "Europe           252916868.0\n",
      "North America    124492666.0\n",
      "Oceania           15003352.0\n",
      "South America     68809418.0\n",
      "Name: total_cases, dtype: float64\n"
     ]
    }
   ],
   "source": [
    "raggruppamento_location = df.groupby(\"location\").last()\n",
    "raggruppamento_continente = raggruppamento_location.groupby(\"continent\")[\"total_cases\"].sum()\n",
    "print(raggruppamento_continente)"
   ]
  },
  {
   "cell_type": "code",
   "execution_count": 30,
   "id": "96e637f4-d9c0-4a14-a23c-ca4d1a6ef029",
   "metadata": {},
   "outputs": [],
   "source": [
    "# b. la percentuale rispetto al totale mondiale del numero di casi"
   ]
  },
  {
   "cell_type": "code",
   "execution_count": 32,
   "id": "74a921f9-4250-4bb1-a789-fc9df52cea09",
   "metadata": {},
   "outputs": [
    {
     "data": {
      "text/plain": [
       "continent\n",
       "Africa            1.694283\n",
       "Asia             38.859648\n",
       "Europe           32.597976\n",
       "North America    16.045624\n",
       "Oceania           1.933754\n",
       "South America     8.868716\n",
       "Name: total_cases, dtype: float64"
      ]
     },
     "execution_count": 32,
     "metadata": {},
     "output_type": "execute_result"
    }
   ],
   "source": [
    "df = df.dropna(subset=[\"continent\", \"total_cases\"])\n",
    "continente = df.groupby(\"location\").last()\n",
    "continente_a = continente.groupby(\"continent\")[\"total_cases\"].sum()\n",
    "totale_mondiale = continente_a.sum()\n",
    "percentuale = (continente_a / totale_mondiale) * 100\n",
    "percentuale"
   ]
  },
  {
   "cell_type": "code",
   "execution_count": 34,
   "id": "ce17a6cc-5405-4e27-9d1d-f9d1767f4b54",
   "metadata": {},
   "outputs": [],
   "source": [
    "# 3. Selezionare i dati relativi all'Italia nel 2022 e, poiché i nuovi casi vengono registrati settimanalmente, filtrare via i giorni che non hanno misurazioni; quindi mostrare con dei grafici adeguati:\n",
    "# a. l'evoluzione del casi totali dall'inizio alla fine dell'anno."
   ]
  },
  {
   "cell_type": "code",
   "execution_count": 36,
   "id": "a301ae35-8c57-493f-804e-03ca6f38e3f9",
   "metadata": {},
   "outputs": [],
   "source": [
    "df['date'] = pd.to_datetime(df['date'])"
   ]
  },
  {
   "cell_type": "code",
   "execution_count": 38,
   "id": "2b56a928-8805-4538-831d-8c4fa1180679",
   "metadata": {},
   "outputs": [],
   "source": [
    "df = df.dropna(subset=[\"date\"])"
   ]
  },
  {
   "cell_type": "code",
   "execution_count": 40,
   "id": "ca7825af-2e4d-49a9-812d-8e51d7c3f9e1",
   "metadata": {},
   "outputs": [],
   "source": [
    "italia = df['location'] == 'Italy'\n",
    "duemilaventidue = df['date'].dt.year == 2022\n",
    "italia_2022 = df[italia & duemilaventidue]"
   ]
  },
  {
   "cell_type": "code",
   "execution_count": 42,
   "id": "1637d79e-7d0c-4f7b-80ef-fa696c9af6d1",
   "metadata": {
    "editable": true,
    "slideshow": {
     "slide_type": ""
    },
    "tags": []
   },
   "outputs": [
    {
     "data": {
      "image/png": "[encoded data removed]",
      "text/plain": [
       "<Figure size 640x480 with 1 Axes>"
      ]
     },
     "metadata": {},
     "output_type": "display_data"
    }
   ],
   "source": [
    "italia_2022.plot(x = 'date', y = 'total_cases', kind = 'line', title = 'Evoluzione casi totali in italia alla fine del 2022');"
   ]
  },
  {
   "cell_type": "code",
   "execution_count": 44,
   "id": "7a7fee36-37d6-48d9-8c78-44514042c390",
   "metadata": {},
   "outputs": [],
   "source": [
    "# b. il numero di nuovi casi rispetto alla data"
   ]
  },
  {
   "cell_type": "code",
   "execution_count": 46,
   "id": "3f34b6dc-38a9-4e1a-a924-7c9c06aecd6b",
   "metadata": {},
   "outputs": [
    {
     "data": {
      "image/png": "[encoded data removed]",
      "text/plain": [
       "<Figure size 640x480 with 1 Axes>"
      ]
     },
     "metadata": {},
     "output_type": "display_data"
    }
   ],
   "source": [
    "italia_2022.plot(x = 'date', y = 'new_cases', kind = 'line', title = 'Andamento nuovi casi in Italia nel 2022');"
   ]
  },
  {
   "cell_type": "code",
   "execution_count": 48,
   "id": "53b5bb43-4084-4d27-beb1-c0f46e0eb5fa",
   "metadata": {},
   "outputs": [],
   "source": [
    "# Riguardo le nazioni di Italia, Germania e Francia:\n",
    "# a. Mostrare in un boxplot la differenza tra queste nazioni riguardo il numero di pazienti in terapia intensiva (Intensive Care Unit, ICU, considerare quindi la colonna icu_patients) da maggio 2022 (incluso) ad aprile 2023 (incluso)"
   ]
  },
  {
   "cell_type": "code",
   "execution_count": 50,
   "id": "8e78cd58-8d73-469e-baa9-531c0708f310",
   "metadata": {},
   "outputs": [],
   "source": [
    "# Prendo in considerazione i valori necessari ai fini dell'analisi\n",
    "nazioni = ['Italy', 'Germany', 'France']\n",
    "data_iniziale = '2022-05-01'\n",
    "data_finale = '2023-04-30'\n",
    "\n",
    "# Creo \"df\" di riferimento\n",
    "ricoveri_nazioni = df[(df['location'].isin(nazioni)) & (df['date'] >= data_iniziale) & (df['date'] <= data_finale)]"
   ]
  },
  {
   "cell_type": "code",
   "execution_count": 52,
   "id": "fec3c5ff-9443-45ed-adfc-1c2ddcccbb3d",
   "metadata": {
    "scrolled": true
   },
   "outputs": [
    {
     "data": {
      "text/plain": [
       "Text(0, 0.5, 'Pazienti in terapia intensiva')"
      ]
     },
     "execution_count": 52,
     "metadata": {},
     "output_type": "execute_result"
    },
    {
     "data": {
      "image/png": "[encoded data removed]",
      "text/plain": [
       "<Figure size 640x480 with 1 Axes>"
      ]
     },
     "metadata": {},
     "output_type": "display_data"
    }
   ],
   "source": [
    "# Creo boxplot\n",
    "ax = sns.boxplot(data = ricoveri_nazioni, x = 'location', y = 'icu_patients')\n",
    "ax.set_title('Pazienti in ICU - Maggio 2022 / Aprile 2023')\n",
    "ax.set_xlabel('Nazione')\n",
    "ax.set_ylabel('Pazienti in terapia intensiva')"
   ]
  },
  {
   "cell_type": "code",
   "execution_count": 62,
   "id": "57ab5cde-2ea6-4ce5-9a6c-10da182f4ee3",
   "metadata": {},
   "outputs": [
    {
     "name": "stdout",
     "output_type": "stream",
     "text": [
      "Dall'analisi svolta emerge che la Germania presente un numero di ricoveri nei reparti di terapia intensiva, nel periodo di riferimento, molto più alto rispetto alle altre due nazioni.\n",
      "La Germania è seguita dalla Francia, che si posizione di poco sotto in termini numerici.\n",
      "In ultimo troviamo l'Italia che presenta una media di ricoveri sicuramente inferiore rispetto alle altre due.\n"
     ]
    }
   ],
   "source": [
    "# b. scrivere un breve commento (una o due righe) riguardo che conclusioni possiamo trarre osservando il grafico risultante\n",
    "print(\"\"\"Dall'analisi svolta emerge che la Germania presente un numero di ricoveri nei reparti di terapia intensiva, nel periodo di riferimento, molto più alto rispetto alle altre due nazioni.\n",
    "La Germania è seguita dalla Francia, che si posizione di poco sotto in termini numerici.\n",
    "In ultimo troviamo l'Italia che presenta una media di ricoveri sicuramente inferiore rispetto alle altre due.\"\"\")"
   ]
  },
  {
   "cell_type": "code",
   "execution_count": null,
   "id": "f869e048-12ad-46fc-893c-a350e906893b",
   "metadata": {},
   "outputs": [],
   "source": [
    "# 5. Riguardo le nazioni di Italia, Germania, Francia e Spagna in tutto il 2021:\n",
    "# a. mostrare, in maniera grafica oppure numerica, la somma dei pazienti ospitalizzati per ognuna (colonna hosp_patients)"
   ]
  },
  {
   "cell_type": "code",
   "execution_count": 151,
   "id": "4e91a597-f3ac-4881-a354-428cc489afb0",
   "metadata": {},
   "outputs": [],
   "source": [
    "nazioni = ['Italy', 'Germany', 'France', 'Spain']\n",
    "filtro_nazioni = df['location'].isin(nazioni)\n",
    "\n",
    "df_filtrato = df[filtro_nazioni].copy()\n",
    "\n",
    "df_filtrato['date'] = pd.to_datetime(df_filtrato['date'])\n",
    "\n",
    "filtro_data_ospedalizzazione = df_filtrato[df_filtrato['date'].dt.year == 2021]"
   ]
  },
  {
   "cell_type": "code",
   "execution_count": 153,
   "id": "e48eb6fb-ee91-4e8d-920e-c6116482800f",
   "metadata": {},
   "outputs": [],
   "source": [
    "somma_pazienti_ospedalizzati = filtro_data_ospedalizzazione.groupby('location')['hosp_patients'].sum().reset_index()"
   ]
  },
  {
   "cell_type": "code",
   "execution_count": 155,
   "id": "ff683924-5a12-4b9a-9f0f-caeab4696024",
   "metadata": {},
   "outputs": [
    {
     "data": {
      "image/png": "[encoded data removed]",
      "text/plain": [
       "<Figure size 640x480 with 1 Axes>"
      ]
     },
     "metadata": {},
     "output_type": "display_data"
    }
   ],
   "source": [
    "sns.barplot(x ='location', y ='hosp_patients', data = somma_pazienti_ospedalizzati);"
   ]
  },
  {
   "cell_type": "code",
   "execution_count": 56,
   "id": "6a282e1c-7752-48d3-9133-47fd135e67c9",
   "metadata": {},
   "outputs": [
    {
     "name": "stdout",
     "output_type": "stream",
     "text": [
      "Vista la mancanza di dati per il paese Germania e la natura degli stessi, non è possibile effettuare nessuna operazione di sostituzione dei dati\n"
     ]
    }
   ],
   "source": [
    "# Se ci sono dati nulli, con un breve commento scrivere se può essere possibile gestirli tramite sostituzione o meno\n",
    "print(\"Vista la mancanza di dati per il paese Germania e la natura degli stessi, non è possibile effettuare nessuna operazione di sostituzione dei dati\")"
   ]
  },
  {
   "cell_type": "code",
   "execution_count": null,
   "id": "0fa67801-4311-4204-ad62-12b6a4985a06",
   "metadata": {},
   "outputs": [],
   "source": []
  }
 ],
 "metadata": {
  "kernelspec": {
   "display_name": "Python [conda env:base] *",
   "language": "python",
   "name": "conda-base-py"
  },
  "language_info": {
   "codemirror_mode": {
    "name": "ipython",
    "version": 3
   },
   "file_extension": ".py",
   "mimetype": "text/x-python",
   "name": "python",
   "nbconvert_exporter": "python",
   "pygments_lexer": "ipython3",
   "version": "3.12.7"
  }
 },
 "nbformat": 4,
 "nbformat_minor": 5
}
